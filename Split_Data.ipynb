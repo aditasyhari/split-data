{
  "nbformat": 4,
  "nbformat_minor": 0,
  "metadata": {
    "colab": {
      "name": "Split_Data.ipynb",
      "provenance": []
    },
    "kernelspec": {
      "name": "python3",
      "display_name": "Python 3"
    },
    "widgets": {
      "application/vnd.jupyter.widget-state+json": {
        "32e3fa1693834eb8a5d59413967b9f96": {
          "model_module": "@jupyter-widgets/controls",
          "model_name": "HBoxModel",
          "model_module_version": "1.5.0",
          "state": {
            "_view_name": "HBoxView",
            "_dom_classes": [],
            "_model_name": "HBoxModel",
            "_view_module": "@jupyter-widgets/controls",
            "_model_module_version": "1.5.0",
            "_view_count": null,
            "_view_module_version": "1.5.0",
            "box_style": "",
            "layout": "IPY_MODEL_1fe9069cfaef4b8db97ed9efdb9f337d",
            "_model_module": "@jupyter-widgets/controls",
            "children": [
              "IPY_MODEL_70d8b211d14842768da39790a864d5b0",
              "IPY_MODEL_2f5a19b591d043999c8a25cf002e169e",
              "IPY_MODEL_a254918d52924fbd90811d5c22340e49"
            ]
          }
        },
        "1fe9069cfaef4b8db97ed9efdb9f337d": {
          "model_module": "@jupyter-widgets/base",
          "model_name": "LayoutModel",
          "model_module_version": "1.2.0",
          "state": {
            "_view_name": "LayoutView",
            "grid_template_rows": null,
            "right": null,
            "justify_content": null,
            "_view_module": "@jupyter-widgets/base",
            "overflow": null,
            "_model_module_version": "1.2.0",
            "_view_count": null,
            "flex_flow": null,
            "width": null,
            "min_width": null,
            "border": null,
            "align_items": null,
            "bottom": null,
            "_model_module": "@jupyter-widgets/base",
            "top": null,
            "grid_column": null,
            "overflow_y": null,
            "overflow_x": null,
            "grid_auto_flow": null,
            "grid_area": null,
            "grid_template_columns": null,
            "flex": null,
            "_model_name": "LayoutModel",
            "justify_items": null,
            "grid_row": null,
            "max_height": null,
            "align_content": null,
            "visibility": null,
            "align_self": null,
            "height": null,
            "min_height": null,
            "padding": null,
            "grid_auto_rows": null,
            "grid_gap": null,
            "max_width": null,
            "order": null,
            "_view_module_version": "1.2.0",
            "grid_template_areas": null,
            "object_position": null,
            "object_fit": null,
            "grid_auto_columns": null,
            "margin": null,
            "display": null,
            "left": null
          }
        },
        "70d8b211d14842768da39790a864d5b0": {
          "model_module": "@jupyter-widgets/controls",
          "model_name": "HTMLModel",
          "model_module_version": "1.5.0",
          "state": {
            "_view_name": "HTMLView",
            "style": "IPY_MODEL_c65ddd83efbe4f97a7fd5535c09ef7a3",
            "_dom_classes": [],
            "description": "",
            "_model_name": "HTMLModel",
            "placeholder": "​",
            "_view_module": "@jupyter-widgets/controls",
            "_model_module_version": "1.5.0",
            "value": "",
            "_view_count": null,
            "_view_module_version": "1.5.0",
            "description_tooltip": null,
            "_model_module": "@jupyter-widgets/controls",
            "layout": "IPY_MODEL_d9c56f8eddef449baaff7ceb320a6dd8"
          }
        },
        "2f5a19b591d043999c8a25cf002e169e": {
          "model_module": "@jupyter-widgets/controls",
          "model_name": "FloatProgressModel",
          "model_module_version": "1.5.0",
          "state": {
            "_view_name": "ProgressView",
            "style": "IPY_MODEL_bbeb7d3e901f4ed583f1754258d3472a",
            "_dom_classes": [],
            "description": "",
            "_model_name": "FloatProgressModel",
            "bar_style": "success",
            "max": 1,
            "_view_module": "@jupyter-widgets/controls",
            "_model_module_version": "1.5.0",
            "value": 1,
            "_view_count": null,
            "_view_module_version": "1.5.0",
            "orientation": "horizontal",
            "min": 0,
            "description_tooltip": null,
            "_model_module": "@jupyter-widgets/controls",
            "layout": "IPY_MODEL_5013b7f27c9944da839e90d32efb0bd2"
          }
        },
        "a254918d52924fbd90811d5c22340e49": {
          "model_module": "@jupyter-widgets/controls",
          "model_name": "HTMLModel",
          "model_module_version": "1.5.0",
          "state": {
            "_view_name": "HTMLView",
            "style": "IPY_MODEL_f45e2791c786450e920bdcf9823ee461",
            "_dom_classes": [],
            "description": "",
            "_model_name": "HTMLModel",
            "placeholder": "​",
            "_view_module": "@jupyter-widgets/controls",
            "_model_module_version": "1.5.0",
            "value": " 123/? [01:21&lt;00:00,  1.60it/s]",
            "_view_count": null,
            "_view_module_version": "1.5.0",
            "description_tooltip": null,
            "_model_module": "@jupyter-widgets/controls",
            "layout": "IPY_MODEL_c74e9e04a1834aad9a23e5bc321a4f96"
          }
        },
        "c65ddd83efbe4f97a7fd5535c09ef7a3": {
          "model_module": "@jupyter-widgets/controls",
          "model_name": "DescriptionStyleModel",
          "model_module_version": "1.5.0",
          "state": {
            "_view_name": "StyleView",
            "_model_name": "DescriptionStyleModel",
            "description_width": "",
            "_view_module": "@jupyter-widgets/base",
            "_model_module_version": "1.5.0",
            "_view_count": null,
            "_view_module_version": "1.2.0",
            "_model_module": "@jupyter-widgets/controls"
          }
        },
        "d9c56f8eddef449baaff7ceb320a6dd8": {
          "model_module": "@jupyter-widgets/base",
          "model_name": "LayoutModel",
          "model_module_version": "1.2.0",
          "state": {
            "_view_name": "LayoutView",
            "grid_template_rows": null,
            "right": null,
            "justify_content": null,
            "_view_module": "@jupyter-widgets/base",
            "overflow": null,
            "_model_module_version": "1.2.0",
            "_view_count": null,
            "flex_flow": null,
            "width": null,
            "min_width": null,
            "border": null,
            "align_items": null,
            "bottom": null,
            "_model_module": "@jupyter-widgets/base",
            "top": null,
            "grid_column": null,
            "overflow_y": null,
            "overflow_x": null,
            "grid_auto_flow": null,
            "grid_area": null,
            "grid_template_columns": null,
            "flex": null,
            "_model_name": "LayoutModel",
            "justify_items": null,
            "grid_row": null,
            "max_height": null,
            "align_content": null,
            "visibility": null,
            "align_self": null,
            "height": null,
            "min_height": null,
            "padding": null,
            "grid_auto_rows": null,
            "grid_gap": null,
            "max_width": null,
            "order": null,
            "_view_module_version": "1.2.0",
            "grid_template_areas": null,
            "object_position": null,
            "object_fit": null,
            "grid_auto_columns": null,
            "margin": null,
            "display": null,
            "left": null
          }
        },
        "bbeb7d3e901f4ed583f1754258d3472a": {
          "model_module": "@jupyter-widgets/controls",
          "model_name": "ProgressStyleModel",
          "model_module_version": "1.5.0",
          "state": {
            "_view_name": "StyleView",
            "_model_name": "ProgressStyleModel",
            "description_width": "",
            "_view_module": "@jupyter-widgets/base",
            "_model_module_version": "1.5.0",
            "_view_count": null,
            "_view_module_version": "1.2.0",
            "bar_color": null,
            "_model_module": "@jupyter-widgets/controls"
          }
        },
        "5013b7f27c9944da839e90d32efb0bd2": {
          "model_module": "@jupyter-widgets/base",
          "model_name": "LayoutModel",
          "model_module_version": "1.2.0",
          "state": {
            "_view_name": "LayoutView",
            "grid_template_rows": null,
            "right": null,
            "justify_content": null,
            "_view_module": "@jupyter-widgets/base",
            "overflow": null,
            "_model_module_version": "1.2.0",
            "_view_count": null,
            "flex_flow": null,
            "width": "20px",
            "min_width": null,
            "border": null,
            "align_items": null,
            "bottom": null,
            "_model_module": "@jupyter-widgets/base",
            "top": null,
            "grid_column": null,
            "overflow_y": null,
            "overflow_x": null,
            "grid_auto_flow": null,
            "grid_area": null,
            "grid_template_columns": null,
            "flex": null,
            "_model_name": "LayoutModel",
            "justify_items": null,
            "grid_row": null,
            "max_height": null,
            "align_content": null,
            "visibility": null,
            "align_self": null,
            "height": null,
            "min_height": null,
            "padding": null,
            "grid_auto_rows": null,
            "grid_gap": null,
            "max_width": null,
            "order": null,
            "_view_module_version": "1.2.0",
            "grid_template_areas": null,
            "object_position": null,
            "object_fit": null,
            "grid_auto_columns": null,
            "margin": null,
            "display": null,
            "left": null
          }
        },
        "f45e2791c786450e920bdcf9823ee461": {
          "model_module": "@jupyter-widgets/controls",
          "model_name": "DescriptionStyleModel",
          "model_module_version": "1.5.0",
          "state": {
            "_view_name": "StyleView",
            "_model_name": "DescriptionStyleModel",
            "description_width": "",
            "_view_module": "@jupyter-widgets/base",
            "_model_module_version": "1.5.0",
            "_view_count": null,
            "_view_module_version": "1.2.0",
            "_model_module": "@jupyter-widgets/controls"
          }
        },
        "c74e9e04a1834aad9a23e5bc321a4f96": {
          "model_module": "@jupyter-widgets/base",
          "model_name": "LayoutModel",
          "model_module_version": "1.2.0",
          "state": {
            "_view_name": "LayoutView",
            "grid_template_rows": null,
            "right": null,
            "justify_content": null,
            "_view_module": "@jupyter-widgets/base",
            "overflow": null,
            "_model_module_version": "1.2.0",
            "_view_count": null,
            "flex_flow": null,
            "width": null,
            "min_width": null,
            "border": null,
            "align_items": null,
            "bottom": null,
            "_model_module": "@jupyter-widgets/base",
            "top": null,
            "grid_column": null,
            "overflow_y": null,
            "overflow_x": null,
            "grid_auto_flow": null,
            "grid_area": null,
            "grid_template_columns": null,
            "flex": null,
            "_model_name": "LayoutModel",
            "justify_items": null,
            "grid_row": null,
            "max_height": null,
            "align_content": null,
            "visibility": null,
            "align_self": null,
            "height": null,
            "min_height": null,
            "padding": null,
            "grid_auto_rows": null,
            "grid_gap": null,
            "max_width": null,
            "order": null,
            "_view_module_version": "1.2.0",
            "grid_template_areas": null,
            "object_position": null,
            "object_fit": null,
            "grid_auto_columns": null,
            "margin": null,
            "display": null,
            "left": null
          }
        }
      }
    }
  },
  "cells": [
    {
      "cell_type": "code",
      "metadata": {
        "id": "bLTpVkCiB42H"
      },
      "source": [
        "import os\n",
        "import pandas as pd\n",
        "from sklearn.model_selection import train_test_split\n",
        "import shutil\n",
        "from tqdm.notebook import tqdm as tq"
      ],
      "execution_count": null,
      "outputs": []
    },
    {
      "cell_type": "code",
      "metadata": {
        "id": "yHOQ9HaECkqx",
        "colab": {
          "base_uri": "https://localhost:8080/"
        },
        "outputId": "5b1a19c9-7eb6-42dd-88bd-4dbaeb30bc1d"
      },
      "source": [
        "mypath= '/content/drive/MyDrive/Colab Notebooks/Bakteri/Bakteri'\n",
        "file_name = []\n",
        "tag = []\n",
        "full_path = []\n",
        "\n",
        "for path, subdirs, files in os.walk(mypath):\n",
        "    for name in files:\n",
        "        full_path.append(os.path.join(path, name)) \n",
        "        tag.append(path.split('/')[-1])        \n",
        "        file_name.append(name)\n",
        "\n",
        "print(tag)"
      ],
      "execution_count": null,
      "outputs": [
        {
          "output_type": "stream",
          "name": "stdout",
          "text": [
            "['Proteus', 'Proteus', 'Proteus', 'Proteus', 'Proteus', 'Proteus', 'Proteus', 'Proteus', 'Proteus', 'Proteus', 'Proteus', 'Proteus', 'Proteus', 'Proteus', 'Proteus', 'Proteus', 'Proteus', 'Proteus', 'Proteus', 'Proteus', 'Clostridium_perfringens', 'Clostridium_perfringens', 'Clostridium_perfringens', 'Clostridium_perfringens', 'Clostridium_perfringens', 'Clostridium_perfringens', 'Clostridium_perfringens', 'Clostridium_perfringens', 'Clostridium_perfringens', 'Clostridium_perfringens', 'Clostridium_perfringens', 'Clostridium_perfringens', 'Clostridium_perfringens', 'Clostridium_perfringens', 'Clostridium_perfringens', 'Clostridium_perfringens', 'Clostridium_perfringens', 'Clostridium_perfringens', 'Clostridium_perfringens', 'Clostridium_perfringens', 'Clostridium_perfringens', 'Clostridium_perfringens', 'Escherichia_coli', 'Escherichia_coli', 'Escherichia_coli', 'Escherichia_coli', 'Escherichia_coli', 'Escherichia_coli', 'Escherichia_coli', 'Escherichia_coli', 'Escherichia_coli', 'Escherichia_coli', 'Escherichia_coli', 'Escherichia_coli', 'Escherichia_coli', 'Escherichia_coli', 'Escherichia_coli', 'Escherichia_coli', 'Escherichia_coli', 'Escherichia_coli', 'Escherichia_coli', 'Escherichia_coli', 'Lactobacillus_reuteri', 'Lactobacillus_reuteri', 'Lactobacillus_reuteri', 'Lactobacillus_reuteri', 'Lactobacillus_reuteri', 'Lactobacillus_reuteri', 'Lactobacillus_reuteri', 'Lactobacillus_reuteri', 'Lactobacillus_reuteri', 'Lactobacillus_reuteri', 'Lactobacillus_reuteri', 'Lactobacillus_reuteri', 'Lactobacillus_reuteri', 'Lactobacillus_reuteri', 'Lactobacillus_reuteri', 'Lactobacillus_reuteri', 'Lactobacillus_reuteri', 'Lactobacillus_reuteri', 'Lactobacillus_reuteri', 'Lactobacillus_reuteri', 'Lactobacillus_reuteri', 'Staphylococcus_epidermidis', 'Staphylococcus_epidermidis', 'Staphylococcus_epidermidis', 'Staphylococcus_epidermidis', 'Staphylococcus_epidermidis', 'Staphylococcus_epidermidis', 'Staphylococcus_epidermidis', 'Staphylococcus_epidermidis', 'Staphylococcus_epidermidis', 'Staphylococcus_epidermidis', 'Staphylococcus_epidermidis', 'Staphylococcus_epidermidis', 'Staphylococcus_epidermidis', 'Staphylococcus_epidermidis', 'Staphylococcus_epidermidis', 'Staphylococcus_epidermidis', 'Staphylococcus_epidermidis', 'Staphylococcus_epidermidis', 'Staphylococcus_epidermidis', 'Staphylococcus_epidermidis', 'Streptococcus_agalactiae', 'Streptococcus_agalactiae', 'Streptococcus_agalactiae', 'Streptococcus_agalactiae', 'Streptococcus_agalactiae', 'Streptococcus_agalactiae', 'Streptococcus_agalactiae', 'Streptococcus_agalactiae', 'Streptococcus_agalactiae', 'Streptococcus_agalactiae', 'Streptococcus_agalactiae', 'Streptococcus_agalactiae', 'Streptococcus_agalactiae', 'Streptococcus_agalactiae', 'Streptococcus_agalactiae', 'Streptococcus_agalactiae', 'Streptococcus_agalactiae', 'Streptococcus_agalactiae', 'Streptococcus_agalactiae', 'Streptococcus_agalactiae']\n"
          ]
        }
      ]
    },
    {
      "cell_type": "code",
      "metadata": {
        "id": "vo4ab9wtC7sS"
      },
      "source": [
        "# memasukan variabel yang sudah dikumpulkan pada looping di atas menjadi sebuah dataframe agar rapi\n",
        "df = pd.DataFrame({\"path\":full_path,'file_name':file_name,\"tag\":tag})\n",
        "df.groupby(['tag']).size()\n",
        "\n",
        "df.head()\n",
        "\n",
        "X= df['path']\n",
        "y= df['tag']"
      ],
      "execution_count": null,
      "outputs": []
    },
    {
      "cell_type": "code",
      "metadata": {
        "id": "yUSOVNKvC_rB"
      },
      "source": [
        "# split dataset awal menjadi data train dan test\n",
        "X_train, X_test, y_train, y_test = train_test_split(\n",
        "    X, y, test_size=0.30, random_state=300)\n",
        "\n",
        "# kemudian data test dibagi menjadi 2 sehingga menjadi data test dan data validation.\n",
        "X_test, X_val, y_test, y_val = train_test_split(\n",
        "    X_test, y_test, test_size=0.5, random_state=100)"
      ],
      "execution_count": null,
      "outputs": []
    },
    {
      "cell_type": "code",
      "metadata": {
        "colab": {
          "base_uri": "https://localhost:8080/"
        },
        "id": "o32Xdgo5DDFv",
        "outputId": "cd6e6d84-7957-46ec-c260-1c82da8976ec"
      },
      "source": [
        "# menyatukan kedalam masing-masing dataframe\n",
        "df_tr = pd.DataFrame({'path':X_train\n",
        "              ,'tag':y_train\n",
        "             ,'set':'train'})\n",
        "\n",
        "df_te = pd.DataFrame({'path':X_test\n",
        "              ,'tag':y_test\n",
        "             ,'set':'test'})\n",
        "\n",
        "df_val = pd.DataFrame({'path':X_val\n",
        "              ,'tag':y_val\n",
        "             ,'set':'validation'})\n",
        "\n",
        "print('train size', len(df_tr))\n",
        "print('val size', len(df_te))\n",
        "print('test size', len(df_val))"
      ],
      "execution_count": null,
      "outputs": [
        {
          "output_type": "stream",
          "name": "stdout",
          "text": [
            "train size 86\n",
            "val size 18\n",
            "test size 19\n"
          ]
        }
      ]
    },
    {
      "cell_type": "code",
      "metadata": {
        "colab": {
          "base_uri": "https://localhost:8080/"
        },
        "id": "EToHGANnDIce",
        "outputId": "9ee15ed0-91a3-4ad7-e348-26c1ca827844"
      },
      "source": [
        "# melihat proporsi pada masing masing set apakah sudah ok atau masih ada yang ingin diubah\n",
        "df_all = df_tr.append([df_te,df_val]).reset_index(drop=1)\\\n",
        "\n",
        "print('===================================================== \\n')\n",
        "print(df_all.groupby(['set','tag']).size(),'\\n')\n",
        "\n",
        "print('===================================================== \\n')\n",
        "\n",
        "#cek sample datanya\n",
        "df_all.sample(3)\n",
        "\n",
        "datasource_path = \"/content/drive/MyDrive/Colab Notebooks/Bakteri/Bakteri\"\n",
        "dataset_path = \"/content/drive/MyDrive/Colab Notebooks/Bakteri/Dataset\""
      ],
      "execution_count": null,
      "outputs": [
        {
          "output_type": "stream",
          "name": "stdout",
          "text": [
            "===================================================== \n",
            "\n",
            "set         tag                       \n",
            "test        Clostridium_perfringens        3\n",
            "            Escherichia_coli               5\n",
            "            Lactobacillus_reuteri          2\n",
            "            Proteus                        2\n",
            "            Staphylococcus_epidermidis     4\n",
            "            Streptococcus_agalactiae       2\n",
            "train       Clostridium_perfringens       16\n",
            "            Escherichia_coli              13\n",
            "            Lactobacillus_reuteri         17\n",
            "            Proteus                       14\n",
            "            Staphylococcus_epidermidis    11\n",
            "            Streptococcus_agalactiae      15\n",
            "validation  Clostridium_perfringens        3\n",
            "            Escherichia_coli               2\n",
            "            Lactobacillus_reuteri          2\n",
            "            Proteus                        4\n",
            "            Staphylococcus_epidermidis     5\n",
            "            Streptococcus_agalactiae       3\n",
            "dtype: int64 \n",
            "\n",
            "===================================================== \n",
            "\n"
          ]
        }
      ]
    },
    {
      "cell_type": "code",
      "metadata": {
        "colab": {
          "base_uri": "https://localhost:8080/",
          "height": 49,
          "referenced_widgets": [
            "32e3fa1693834eb8a5d59413967b9f96",
            "1fe9069cfaef4b8db97ed9efdb9f337d",
            "70d8b211d14842768da39790a864d5b0",
            "2f5a19b591d043999c8a25cf002e169e",
            "a254918d52924fbd90811d5c22340e49",
            "c65ddd83efbe4f97a7fd5535c09ef7a3",
            "d9c56f8eddef449baaff7ceb320a6dd8",
            "bbeb7d3e901f4ed583f1754258d3472a",
            "5013b7f27c9944da839e90d32efb0bd2",
            "f45e2791c786450e920bdcf9823ee461",
            "c74e9e04a1834aad9a23e5bc321a4f96"
          ]
        },
        "id": "Al1OGpd6DOMq",
        "outputId": "81e24f83-e53b-4cf8-97c7-db8f16c9c22e"
      },
      "source": [
        "for index, row in tq(df_all.iterrows()):\n",
        "    \n",
        "    #detect filepath\n",
        "    file_path = row['path']\n",
        "    if os.path.exists(file_path) == False:\n",
        "            file_path = os.path.join(datasource_path,row['tag'],row['image'].split('.')[0])            \n",
        "    \n",
        "    #make folder destination dirs\n",
        "    if os.path.exists(os.path.join(dataset_path,row['set'],row['tag'])) == False:\n",
        "        os.makedirs(os.path.join(dataset_path,row['set'],row['tag']))\n",
        "    \n",
        "    #define file dest\n",
        "    destination_file_name = file_path.split('/')[-1]\n",
        "    file_dest = os.path.join(dataset_path,row['set'],row['tag'],destination_file_name)\n",
        "    \n",
        "    #copy file from source to dest\n",
        "    if os.path.exists(file_dest) == False:\n",
        "        shutil.copy2(file_path,file_dest)"
      ],
      "execution_count": null,
      "outputs": [
        {
          "output_type": "display_data",
          "data": {
            "application/vnd.jupyter.widget-view+json": {
              "model_id": "32e3fa1693834eb8a5d59413967b9f96",
              "version_minor": 0,
              "version_major": 2
            },
            "text/plain": [
              "0it [00:00, ?it/s]"
            ]
          },
          "metadata": {}
        }
      ]
    }
  ]
}